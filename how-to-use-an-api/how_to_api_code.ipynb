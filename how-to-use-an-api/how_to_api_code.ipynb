{
  "cells": [
    {
      "cell_type": "markdown",
      "metadata": {
        "id": "TT1saOnhoiQt"
      },
      "source": [
        "# How to use an API - the practical bit."
      ]
    },
    {
      "cell_type": "markdown",
      "metadata": {
        "id": "OvoL43ORoiQ1"
      },
      "source": [
        "\n",
        "## A simple API in action.\n",
        "This notebook follows on from our 'How to use an API' tutorial.  \n",
        "We'll use it to explore one particular open API using code - Python, to be exact, since it's relatively beginner-friendly to do the things we want to do here. And by 'things' I mean:  \n",
        "- Construct a query\n",
        "- Send the query to a server\n",
        "- Check the response and maybe a few other details\n",
        "- Look at the data  \n",
        "\n",
        "If you're already familiar with Python, that's great.  \n",
        "\n",
        "If not, don't worry - you don't need to write any code, just use the small arrow button at the left of each code cell to run it and have a look at what you get back."
      ]
    },
    {
      "cell_type": "markdown",
      "metadata": {
        "id": "FG-mc9eeoiQ2"
      },
      "source": [
        "Most programming languages have built-in functions for calling on data and resources on remote servers; here's how you do it in Python.\n",
        "First we need to import a few Python libraries so you have the right commands to call on.  \n",
        "* ```requests```  \n",
        "Adds functions for talking directly to APIs and handling the particular text formats they return. JSON (JavaScript Object Notation) is the most common, though you may also see XML (eXtensible Markup Language) and CSV (Comma Separated Variables).  \n",
        "* ```pandas```  \n",
        "Adds the ability to turn a table of data into a **dataframe**, and from there we can slice, aggregate, summarise and pivot to shape the data into what we need.\n",
        "* ```pprint```  \n",
        "Lets us print nested data (such as JSON and XML) in a neat, indented structure rather than one long untidy string."
      ]
    },
    {
      "cell_type": "code",
      "execution_count": 1,
      "metadata": {
        "id": "V63r8BiaoiQ2"
      },
      "outputs": [],
      "source": [
        "# adding the libraries via the 'import' command\n",
        "import requests\n",
        "import pandas as pd # pd is the 'alias' for pandas; it's a little quicker to type\n",
        "import pprint\n",
        "# sometimes we add a shortcut so we don't have to type out the whole phrase every time\n",
        "pp = pprint.PrettyPrinter(indent=4)"
      ]
    },
    {
      "cell_type": "markdown",
      "metadata": {
        "id": "FQk1upwYoiQ5"
      },
      "source": [
        "The code we're going to use is borrowed from a Python API tutorial by Vik Parachuri at https://dataquest.io/blog/python-api-tutorial and uses the [Open Notify API](http://open-notify.org/Open-Notify-API/) (information about the International Space Station).\n",
        "\n",
        "First; can we find out where the ISS is right now?"
      ]
    },
    {
      "cell_type": "markdown",
      "metadata": {
        "id": "BcJf-DIVQ9WH"
      },
      "source": [
        "### Where is the International Space Station?\n",
        "First - is that even something we can ask the API for?  \n",
        "\n",
        "As it turns out, yes it is.  \n",
        "* To execute the code in the cell, select it with a click and then either press the play button to the left of the code, or use the keyboard shortcut \"Command+Enter\" (MacOS) or \"Ctrl+Enter\" (Windows and Linux).  \n",
        "* To edit the code, just click the cell and start editing."
      ]
    },
    {
      "cell_type": "code",
      "execution_count": 2,
      "metadata": {
        "colab": {
          "base_uri": "https://localhost:8080/"
        },
        "id": "Y3RLrCi5oiQ7",
        "outputId": "80fd4cc3-14fa-49b7-889e-a6e6f55b70d9"
      },
      "outputs": [
        {
          "name": "stdout",
          "output_type": "stream",
          "text": [
            "200\n"
          ]
        }
      ],
      "source": [
        "# getting the status code of a request\n",
        "iss_now = requests.get(\"http://api.open-notify.org/iss-now\")\n",
        "print (iss_now.status_code)"
      ]
    },
    {
      "cell_type": "markdown",
      "metadata": {
        "id": "Nyw7NDduKUh2"
      },
      "source": [
        "If the response is **200** then yes, we can. Now let's ask our real question though - where is the ISS right now?"
      ]
    },
    {
      "cell_type": "code",
      "execution_count": 3,
      "metadata": {
        "colab": {
          "base_uri": "https://localhost:8080/"
        },
        "id": "48hNpcfmJyKZ",
        "outputId": "ad1ffa90-5aff-48ad-c95f-dab800e3a594"
      },
      "outputs": [
        {
          "name": "stdout",
          "output_type": "stream",
          "text": [
            "b'{\"message\": \"success\", \"iss_position\": {\"longitude\": \"-66.4086\", \"latitude\": \"19.7801\"}, \"timestamp\": 1746527797}'\n"
          ]
        }
      ],
      "source": [
        "# getting the contents of the response\n",
        "iss_now = requests.get(\"http://api.open-notify.org/iss-now\")\n",
        "print (iss_now.content)"
      ]
    },
    {
      "cell_type": "markdown",
      "metadata": {
        "id": "VG_IoHTTKmkn"
      },
      "source": [
        "Hopefully that gives us a few pieces of information.\n",
        "* ```message``` - \"success\"\n",
        "* ```timestamp``` - some value for the current time/date\n",
        "* ```iss_position``` - a latitude/longitude pair that represents the coordinates the ISS is passing over at this very moment.  \n",
        "\n",
        "if you keep running the command every couple of seconds you'll see the coordinates changing as the ISS keeps moving."
      ]
    },
    {
      "cell_type": "markdown",
      "metadata": {
        "id": "6PlWkRp0m5X5"
      },
      "source": [
        "### Who's on the ISS right now?\n",
        "The International Space Station is manned by a rotating crew of astronauts from different countries; as luck would have it, the API has a specific function that can tell us who's on board right now."
      ]
    },
    {
      "cell_type": "code",
      "execution_count": 4,
      "metadata": {
        "colab": {
          "base_uri": "https://localhost:8080/"
        },
        "id": "MVjr9weDoiRK",
        "outputId": "4624a7a1-26b1-46c7-e02d-e3c7cddddd83"
      },
      "outputs": [
        {
          "name": "stdout",
          "output_type": "stream",
          "text": [
            "{   'message': 'success',\n",
            "    'number': 12,\n",
            "    'people': [   {'craft': 'ISS', 'name': 'Oleg Kononenko'},\n",
            "                  {'craft': 'ISS', 'name': 'Nikolai Chub'},\n",
            "                  {'craft': 'ISS', 'name': 'Tracy Caldwell Dyson'},\n",
            "                  {'craft': 'ISS', 'name': 'Matthew Dominick'},\n",
            "                  {'craft': 'ISS', 'name': 'Michael Barratt'},\n",
            "                  {'craft': 'ISS', 'name': 'Jeanette Epps'},\n",
            "                  {'craft': 'ISS', 'name': 'Alexander Grebenkin'},\n",
            "                  {'craft': 'ISS', 'name': 'Butch Wilmore'},\n",
            "                  {'craft': 'ISS', 'name': 'Sunita Williams'},\n",
            "                  {'craft': 'Tiangong', 'name': 'Li Guangsu'},\n",
            "                  {'craft': 'Tiangong', 'name': 'Li Cong'},\n",
            "                  {'craft': 'Tiangong', 'name': 'Ye Guangfu'}]}\n"
          ]
        }
      ],
      "source": [
        "# who's on the iss right now?\n",
        "response = requests.get(\"http://api.open-notify.org/astros.json\")\n",
        "astros = response.json()\n",
        "pp.pprint (astros)"
      ]
    },
    {
      "cell_type": "markdown",
      "metadata": {
        "id": "6SIWDW4CoiRN"
      },
      "source": [
        "# Sandbox\n",
        "Don't forget these other examples you can play with.  \n",
        "* #### Pokemon evolution\n",
        "http://pokeapi.co/api/v2/evolution-chain/7/  \n",
        "* #### Companies House - this example searches for registered business by location\n",
        "https://api.company-information.service.gov.uk/advanced-search/companies?company_status=active&location=Bristol\n",
        "* #### Wikipedia revisions to UK parliament entries\n",
        "https://en.wikipedia.org/w/api.php?action=query&titles=parliament&prop=revisions  \n",
        "\n"
      ]
    },
    {
      "cell_type": "markdown",
      "metadata": {
        "id": "WVcotphqqxk0"
      },
      "source": [
        "# Don't panic!  \n",
        "\n",
        "If you accidentally deleted or altered any of the code cells and you can't get them working again no matter what you do, just copy and paste the bits you need from here.\n",
        "***\n",
        "```\n",
        "# ADDING LIBRARIES VIA THE 'IMPORT' COMMAND\n",
        "import requests\n",
        "import pandas as pd # pd is the 'alias' for pandas; it's a little quicker to type\n",
        "import pprint\n",
        "# sometimes we add a shortcut so we don't have to type out the whole phrase every time\n",
        "pp = pprint.PrettyPrinter(indent=4)\n",
        "```\n",
        "***\n",
        "```\n",
        "# GETTING THE STATUS / SUCCESS CODE OF A REQUEST\n",
        "iss_now = requests.get(\"http://api.open-notify.org/iss-now\")\n",
        "print (iss_now.status_code)\n",
        "```\n",
        "***\n",
        "```\n",
        "# GETTING THE CONTENTS OF THE RESPONSE\n",
        "iss_now = requests.get(\"http://api.open-notify.org/iss-now\")\n",
        "print (iss_now.content)\n",
        "```\n",
        "***\n",
        "```\n",
        "# WHO'S ON THE ISS RIGHT NOW?\n",
        "response = requests.get(\"http://api.open-notify.org/astros.json\")\n",
        "astros = response.json()\n",
        "pp.pprint (astros)\n",
        "```\n",
        "\n",
        "\n"
      ]
    },
    {
      "cell_type": "code",
      "execution_count": null,
      "metadata": {
        "id": "0dtkge4cxf0o"
      },
      "outputs": [],
      "source": []
    }
  ],
  "metadata": {
    "colab": {
      "provenance": []
    },
    "kernelspec": {
      "display_name": "Python 3",
      "language": "python",
      "name": "python3"
    },
    "language_info": {
      "codemirror_mode": {
        "name": "ipython",
        "version": 3
      },
      "file_extension": ".py",
      "mimetype": "text/x-python",
      "name": "python",
      "nbconvert_exporter": "python",
      "pygments_lexer": "ipython3",
      "version": "3.11.9"
    }
  },
  "nbformat": 4,
  "nbformat_minor": 0
}
